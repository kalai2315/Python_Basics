{
  "nbformat": 4,
  "nbformat_minor": 0,
  "metadata": {
    "colab": {
      "provenance": [],
      "authorship_tag": "ABX9TyNUYFyE5WZalkkXdA4KYUt+",
      "include_colab_link": true
    },
    "kernelspec": {
      "name": "python3",
      "display_name": "Python 3"
    },
    "language_info": {
      "name": "python"
    }
  },
  "cells": [
    {
      "cell_type": "markdown",
      "metadata": {
        "id": "view-in-github",
        "colab_type": "text"
      },
      "source": [
        "<a href=\"https://colab.research.google.com/github/kalai2315/Python_Basics/blob/main/Conditional_statements.ipynb\" target=\"_parent\"><img src=\"https://colab.research.google.com/assets/colab-badge.svg\" alt=\"Open In Colab\"/></a>"
      ]
    },
    {
      "cell_type": "markdown",
      "source": [
        "Conditions\n",
        "\n",
        "IF\n",
        "\n",
        "IF else\n",
        "\n",
        "if elif else"
      ],
      "metadata": {
        "id": "kBMiXoAcBfsP"
      }
    },
    {
      "cell_type": "markdown",
      "source": [
        "Comparision Operators\n",
        "\n",
        "x == y\n",
        "\n",
        "x!= y\n",
        "\n",
        "x < y\n",
        "\n",
        "x <= y\n",
        "\n",
        "x > y\n",
        "\n",
        "x >= y"
      ],
      "metadata": {
        "id": "OTKQ7yPNB_0q"
      }
    },
    {
      "cell_type": "code",
      "source": [
        "a=50\n",
        "b=20\n",
        "if a>b:\n",
        "    print('a is greater than b')"
      ],
      "metadata": {
        "id": "auYBsDHYCwwq"
      },
      "execution_count": null,
      "outputs": []
    },
    {
      "cell_type": "code",
      "source": [
        "a=50\n",
        "b=20\n",
        "if a>b:\n",
        "    print('a is greater than b')\n",
        "else:\n",
        "    print('b is greater than a')"
      ],
      "metadata": {
        "id": "tIzl1MuYC5bR"
      },
      "execution_count": null,
      "outputs": []
    },
    {
      "cell_type": "code",
      "source": [
        "a=14\n",
        "b=14\n",
        "if a>b:\n",
        "    print('a is greater than b')\n",
        "elif a==b:\n",
        "    print('a is equal to b')\n",
        "else:\n",
        "    print('b is greater than a')"
      ],
      "metadata": {
        "id": "FcEV_7aUDS7q"
      },
      "execution_count": null,
      "outputs": []
    },
    {
      "cell_type": "code",
      "source": [
        "a=50\n",
        "b=20\n",
        "print('a is greater than b') if a>b else print('b is greater than a')\n"
      ],
      "metadata": {
        "colab": {
          "base_uri": "https://localhost:8080/"
        },
        "id": "de29yTEBDxhu",
        "outputId": "a1c7e76d-b176-4614-c71e-ce1bdeb26d93"
      },
      "execution_count": null,
      "outputs": [
        {
          "output_type": "stream",
          "name": "stdout",
          "text": [
            "a is greater than b\n"
          ]
        }
      ]
    },
    {
      "cell_type": "code",
      "source": [
        "a=15\n",
        "b=45\n",
        "c=20\n",
        "if a>b and a>c:\n",
        "    print('a is the greatest number')\n",
        "elif b>a and b>c:\n",
        "    print('b is the greatest number')\n",
        "else:\n",
        "    print('c is the greatest number')"
      ],
      "metadata": {
        "id": "GFe3OAVfD6qq"
      },
      "execution_count": null,
      "outputs": []
    },
    {
      "cell_type": "markdown",
      "source": [
        "**Loops**\n",
        "\n",
        "While\n",
        "\n",
        "For\n",
        "\n",
        "Break\n",
        "\n",
        "Continue"
      ],
      "metadata": {
        "id": "o6MygdIQEVtQ"
      }
    },
    {
      "cell_type": "markdown",
      "source": [
        " **for loop**\n",
        "\n",
        " uses iterables(lists, tuples, sets, dictionaries, string, range keyword) to run the loop."
      ],
      "metadata": {
        "id": "E8fbTl4sJRRT"
      }
    },
    {
      "cell_type": "code",
      "source": [
        "list1 = [1,2,3,4,5,6,7,8]"
      ],
      "metadata": {
        "id": "BZxacgJqEfVm"
      },
      "execution_count": null,
      "outputs": []
    },
    {
      "cell_type": "code",
      "source": [
        "for x in list1:\n",
        "    print(x)"
      ],
      "metadata": {
        "colab": {
          "base_uri": "https://localhost:8080/"
        },
        "id": "gT7dSaoFJm4Y",
        "outputId": "79e6608f-17cb-44ec-ab19-522e1a9bace0"
      },
      "execution_count": null,
      "outputs": [
        {
          "output_type": "stream",
          "name": "stdout",
          "text": [
            "1\n",
            "2\n",
            "3\n",
            "4\n",
            "5\n",
            "6\n",
            "7\n",
            "8\n"
          ]
        }
      ]
    },
    {
      "cell_type": "code",
      "source": [
        "word = 'Python'\n",
        "for x in word:\n",
        "    print(x)"
      ],
      "metadata": {
        "colab": {
          "base_uri": "https://localhost:8080/"
        },
        "id": "CQkH40gEJo8b",
        "outputId": "a952add9-0b39-44f7-a264-9fcdbe362d7e"
      },
      "execution_count": null,
      "outputs": [
        {
          "output_type": "stream",
          "name": "stdout",
          "text": [
            "P\n",
            "y\n",
            "t\n",
            "h\n",
            "o\n",
            "n\n"
          ]
        }
      ]
    },
    {
      "cell_type": "markdown",
      "source": [
        "range keyword"
      ],
      "metadata": {
        "id": "GvWMp4C4Knrd"
      }
    },
    {
      "cell_type": "code",
      "source": [
        "list(range(15))"
      ],
      "metadata": {
        "id": "6Yelrv8BKZMP",
        "colab": {
          "base_uri": "https://localhost:8080/"
        },
        "outputId": "99f454ce-d891-4766-e514-a3a45462dad9"
      },
      "execution_count": null,
      "outputs": [
        {
          "output_type": "execute_result",
          "data": {
            "text/plain": [
              "[0, 1, 2, 3, 4, 5, 6, 7, 8, 9, 10, 11, 12, 13, 14]"
            ]
          },
          "metadata": {},
          "execution_count": 1
        }
      ]
    },
    {
      "cell_type": "code",
      "source": [
        "list(range(1, 16))  #(start, stop+1)"
      ],
      "metadata": {
        "id": "RQAtQh-ZKqT1",
        "colab": {
          "base_uri": "https://localhost:8080/"
        },
        "outputId": "36443b83-d05e-42f8-9571-90d3b61fe1e1"
      },
      "execution_count": null,
      "outputs": [
        {
          "output_type": "execute_result",
          "data": {
            "text/plain": [
              "[1, 2, 3, 4, 5, 6, 7, 8, 9, 10, 11, 12, 13, 14, 15]"
            ]
          },
          "metadata": {},
          "execution_count": 4
        }
      ]
    },
    {
      "cell_type": "code",
      "source": [
        "list(range(0, 100, 10))"
      ],
      "metadata": {
        "id": "sJaeVRrPKtJ5",
        "colab": {
          "base_uri": "https://localhost:8080/"
        },
        "outputId": "4bf89f26-3923-4790-c3f5-3ab6842893af"
      },
      "execution_count": null,
      "outputs": [
        {
          "output_type": "execute_result",
          "data": {
            "text/plain": [
              "[0, 10, 20, 30, 40, 50, 60, 70, 80, 90]"
            ]
          },
          "metadata": {},
          "execution_count": 1
        }
      ]
    },
    {
      "cell_type": "code",
      "source": [
        "numbers = list(range(1,21))"
      ],
      "metadata": {
        "id": "glj-CMdhKxzT"
      },
      "execution_count": null,
      "outputs": []
    },
    {
      "cell_type": "code",
      "source": [
        "numbers"
      ],
      "metadata": {
        "id": "88pwsrlzKzQ-",
        "colab": {
          "base_uri": "https://localhost:8080/"
        },
        "outputId": "f5ef2bf5-192f-468b-b744-32ca47fb7140"
      },
      "execution_count": null,
      "outputs": [
        {
          "output_type": "execute_result",
          "data": {
            "text/plain": [
              "[1, 2, 3, 4, 5, 6, 7, 8, 9, 10, 11, 12, 13, 14, 15, 16, 17, 18, 19, 20]"
            ]
          },
          "metadata": {},
          "execution_count": 6
        }
      ]
    },
    {
      "cell_type": "code",
      "source": [
        "odd = []\n",
        "\n",
        "for value in numbers:\n",
        "    if value % 2 != 0:\n",
        "        odd.append(value)"
      ],
      "metadata": {
        "id": "d7x6OzRlK1EE"
      },
      "execution_count": null,
      "outputs": []
    },
    {
      "cell_type": "code",
      "source": [
        "odd"
      ],
      "metadata": {
        "id": "Rbi4ZEwbK12W"
      },
      "execution_count": null,
      "outputs": []
    },
    {
      "cell_type": "code",
      "source": [
        "even = []\n",
        "\n",
        "for value in numbers:\n",
        "    if value % 2 == 0:\n",
        "        even.append(value)"
      ],
      "metadata": {
        "id": "VOmDrQMzK6dL"
      },
      "execution_count": null,
      "outputs": []
    },
    {
      "cell_type": "code",
      "source": [
        "even"
      ],
      "metadata": {
        "id": "wugib-iHK6Zx"
      },
      "execution_count": null,
      "outputs": []
    },
    {
      "cell_type": "code",
      "source": [
        "numbers = list(range(1,21))"
      ],
      "metadata": {
        "id": "xkDK1Sb0Pplw"
      },
      "execution_count": null,
      "outputs": []
    },
    {
      "cell_type": "code",
      "source": [
        "odd_new = []\n",
        "even_new = []\n",
        "\n",
        "for value in numbers:\n",
        "    if value % 2 != 0:\n",
        "        odd_new.append(value)\n",
        "    else:\n",
        "        even_new.append(value)"
      ],
      "metadata": {
        "id": "rpv2PLRWK6Xa"
      },
      "execution_count": null,
      "outputs": []
    },
    {
      "cell_type": "markdown",
      "source": [
        "**Control Flow Statements**\n",
        "\n",
        "break\n",
        "\n",
        "continue"
      ],
      "metadata": {
        "id": "2Dn-fhcSLTmB"
      }
    },
    {
      "cell_type": "markdown",
      "source": [
        "break (stop the iteration)"
      ],
      "metadata": {
        "id": "DbGCygTULd6S"
      }
    },
    {
      "cell_type": "code",
      "source": [
        "list1"
      ],
      "metadata": {
        "id": "HjirFukBLpY1",
        "colab": {
          "base_uri": "https://localhost:8080/"
        },
        "outputId": "3be65d74-f330-4b1a-87e7-9c8fad339679"
      },
      "execution_count": null,
      "outputs": [
        {
          "output_type": "execute_result",
          "data": {
            "text/plain": [
              "[1, 2, 3, 4, 5, 6, 7, 8]"
            ]
          },
          "metadata": {},
          "execution_count": 9
        }
      ]
    },
    {
      "cell_type": "code",
      "source": [
        "for value in list1:\n",
        "    if value == 5:\n",
        "        break\n",
        "    print(value)"
      ],
      "metadata": {
        "id": "4KsiY1ZWK6U2",
        "colab": {
          "base_uri": "https://localhost:8080/"
        },
        "outputId": "04a1e7e3-c3e8-48ac-d2ab-a7462f1f8e53"
      },
      "execution_count": null,
      "outputs": [
        {
          "output_type": "stream",
          "name": "stdout",
          "text": [
            "1\n",
            "2\n",
            "3\n",
            "4\n"
          ]
        }
      ]
    },
    {
      "cell_type": "markdown",
      "source": [
        "continue(skip an iteration)"
      ],
      "metadata": {
        "id": "alvHuWDwLuu4"
      }
    },
    {
      "cell_type": "code",
      "source": [
        "list1"
      ],
      "metadata": {
        "colab": {
          "base_uri": "https://localhost:8080/"
        },
        "id": "Fwu4d643L9lc",
        "outputId": "576c78cd-b229-4b10-cdb9-6e047d555718"
      },
      "execution_count": null,
      "outputs": [
        {
          "output_type": "execute_result",
          "data": {
            "text/plain": [
              "[1, 2, 3, 4, 5, 6, 7, 8]"
            ]
          },
          "metadata": {},
          "execution_count": 7
        }
      ]
    },
    {
      "cell_type": "code",
      "source": [
        "for value in list1:\n",
        "    if value == 5:\n",
        "        continue\n",
        "    print(value)"
      ],
      "metadata": {
        "colab": {
          "base_uri": "https://localhost:8080/"
        },
        "id": "MMtRteq_K6SU",
        "outputId": "c1dd3b56-7045-412c-81d6-330c5174d479"
      },
      "execution_count": null,
      "outputs": [
        {
          "output_type": "stream",
          "name": "stdout",
          "text": [
            "1\n",
            "2\n",
            "3\n",
            "4\n",
            "6\n",
            "7\n",
            "8\n"
          ]
        }
      ]
    },
    {
      "cell_type": "code",
      "source": [
        "odd_list = []\n",
        "\n",
        "for value in list1:\n",
        "    if value % 2 == 0:\n",
        "        continue\n",
        "    odd_list.append(value)"
      ],
      "metadata": {
        "id": "MXoT2lrTK6Pe"
      },
      "execution_count": null,
      "outputs": []
    },
    {
      "cell_type": "code",
      "source": [
        "odd_list"
      ],
      "metadata": {
        "id": "05kvH3XYL8KM"
      },
      "execution_count": null,
      "outputs": []
    },
    {
      "cell_type": "markdown",
      "source": [
        "**While loop**\n",
        "\n",
        "\n"
      ],
      "metadata": {
        "id": "vXzJJvnBM1yU"
      }
    },
    {
      "cell_type": "code",
      "source": [
        "i = 0\n",
        "\n",
        "while i < 5:\n",
        "    print(i)\n",
        "    i += 1 #i=i+1"
      ],
      "metadata": {
        "colab": {
          "base_uri": "https://localhost:8080/"
        },
        "id": "B7LslfT5M1cX",
        "outputId": "5adfb3c5-4135-4c36-af58-f97f37a31251"
      },
      "execution_count": null,
      "outputs": [
        {
          "output_type": "stream",
          "name": "stdout",
          "text": [
            "0\n",
            "1\n",
            "2\n",
            "3\n",
            "4\n"
          ]
        }
      ]
    },
    {
      "cell_type": "code",
      "source": [
        "i = 0\n",
        "\n",
        "while i < 5:\n",
        "    print(i)\n",
        "    if i == 3:\n",
        "        break\n",
        "    i += 1"
      ],
      "metadata": {
        "colab": {
          "base_uri": "https://localhost:8080/"
        },
        "id": "eA_r62wQONLv",
        "outputId": "042c676d-dd14-4dbb-a14e-2d459bf85721"
      },
      "execution_count": null,
      "outputs": [
        {
          "output_type": "stream",
          "name": "stdout",
          "text": [
            "0\n",
            "1\n",
            "2\n",
            "3\n"
          ]
        }
      ]
    },
    {
      "cell_type": "code",
      "source": [
        "i = 0\n",
        "\n",
        "while i < 5:\n",
        "    i += 1\n",
        "    if i == 3:\n",
        "        continue\n",
        "    print(i)"
      ],
      "metadata": {
        "colab": {
          "base_uri": "https://localhost:8080/"
        },
        "id": "SDKz-N4MOvEO",
        "outputId": "1c14fcd0-63a3-4283-977b-33e6b1e8d0e1"
      },
      "execution_count": null,
      "outputs": [
        {
          "output_type": "stream",
          "name": "stdout",
          "text": [
            "1\n",
            "2\n",
            "4\n",
            "5\n"
          ]
        }
      ]
    },
    {
      "cell_type": "code",
      "source": [
        "num = 0\n",
        "\n",
        "while num < 10:\n",
        "    num += 1\n",
        "    if num % 2 == 0:  # If num is even, skip printing\n",
        "        continue\n",
        "    print(num)\n"
      ],
      "metadata": {
        "id": "WPo_vhw5OY3f"
      },
      "execution_count": null,
      "outputs": []
    }
  ]
}