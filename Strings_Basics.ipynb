{
  "nbformat": 4,
  "nbformat_minor": 0,
  "metadata": {
    "colab": {
      "provenance": [],
      "authorship_tag": "ABX9TyPIkgOPUf4Jx9A+Fb7pWvI0",
      "include_colab_link": true
    },
    "kernelspec": {
      "name": "python3",
      "display_name": "Python 3"
    },
    "language_info": {
      "name": "python"
    }
  },
  "cells": [
    {
      "cell_type": "markdown",
      "metadata": {
        "id": "view-in-github",
        "colab_type": "text"
      },
      "source": [
        "<a href=\"https://colab.research.google.com/github/kalai2315/Python_Basics/blob/main/Strings_Basics.ipynb\" target=\"_parent\"><img src=\"https://colab.research.google.com/assets/colab-badge.svg\" alt=\"Open In Colab\"/></a>"
      ]
    },
    {
      "cell_type": "code",
      "execution_count": null,
      "metadata": {
        "id": "AXUSQ-Ya5B-U"
      },
      "outputs": [],
      "source": [
        "word1 = 'Python Programming'"
      ]
    },
    {
      "cell_type": "code",
      "source": [
        "word2 = \"Python Programming\""
      ],
      "metadata": {
        "id": "49dOWRh35LSj"
      },
      "execution_count": null,
      "outputs": []
    },
    {
      "cell_type": "code",
      "source": [
        "word3 = 'Python is the most preferred language for Data Science and Machine Learning'"
      ],
      "metadata": {
        "id": "TeVOBAx25O1m"
      },
      "execution_count": null,
      "outputs": []
    },
    {
      "cell_type": "markdown",
      "source": [
        "# **Indexing and Slicing**"
      ],
      "metadata": {
        "id": "TmWLkJZG5Wnk"
      }
    },
    {
      "cell_type": "code",
      "source": [
        "word3"
      ],
      "metadata": {
        "id": "vuktLYOH5Ox6"
      },
      "execution_count": null,
      "outputs": []
    },
    {
      "cell_type": "code",
      "source": [
        "word3[1]"
      ],
      "metadata": {
        "id": "85aYlx3_5Oux"
      },
      "execution_count": null,
      "outputs": []
    },
    {
      "cell_type": "code",
      "source": [
        "word3[-3]"
      ],
      "metadata": {
        "id": "VlOairS25Or2"
      },
      "execution_count": null,
      "outputs": []
    },
    {
      "cell_type": "code",
      "source": [
        "word3[0:6]"
      ],
      "metadata": {
        "id": "jOxxEiZb5Opb"
      },
      "execution_count": null,
      "outputs": []
    },
    {
      "cell_type": "markdown",
      "source": [
        "# **String Methods**"
      ],
      "metadata": {
        "id": "nMjhACPZ6CuY"
      }
    },
    {
      "cell_type": "code",
      "source": [
        "#find() method in Python is used to locate the position of a substring within a string.\n",
        "\n",
        "word3.find('Data')\n",
        "\n",
        "#Data' is found starting at index 42 in the string."
      ],
      "metadata": {
        "colab": {
          "base_uri": "https://localhost:8080/"
        },
        "id": "nEV0Nqhr7YwY",
        "outputId": "ebdc2c46-0cec-415f-ccd9-8bf55de602ec"
      },
      "execution_count": null,
      "outputs": [
        {
          "output_type": "execute_result",
          "data": {
            "text/plain": [
              "42"
            ]
          },
          "metadata": {},
          "execution_count": 4
        }
      ]
    },
    {
      "cell_type": "code",
      "source": [
        "word3.find('Java')    #If the Substring is Not Found: find() will return -1"
      ],
      "metadata": {
        "id": "oBhYJwX97bjk"
      },
      "execution_count": null,
      "outputs": []
    },
    {
      "cell_type": "code",
      "source": [
        "word3.index('Python')"
      ],
      "metadata": {
        "id": "7n246v-O7bgF"
      },
      "execution_count": null,
      "outputs": []
    },
    {
      "cell_type": "code",
      "source": [
        "word3.replace('Python', 'Java')"
      ],
      "metadata": {
        "id": "65fpNAz27bdK"
      },
      "execution_count": null,
      "outputs": []
    },
    {
      "cell_type": "code",
      "source": [
        "#str.upper()\n",
        "#Converts all characters of the string to uppercase\n",
        "\n",
        "word1.upper()"
      ],
      "metadata": {
        "id": "QmlAtDYA5Okb"
      },
      "execution_count": null,
      "outputs": []
    },
    {
      "cell_type": "code",
      "source": [
        "word2.lower()"
      ],
      "metadata": {
        "id": "5dXsnkdk5Oh0"
      },
      "execution_count": null,
      "outputs": []
    },
    {
      "cell_type": "code",
      "source": [
        "word2.title()"
      ],
      "metadata": {
        "id": "7csUTWwP5OfP"
      },
      "execution_count": null,
      "outputs": []
    },
    {
      "cell_type": "code",
      "source": [
        "word3.capitalize()"
      ],
      "metadata": {
        "id": "x1QPlWWh5Ocy"
      },
      "execution_count": null,
      "outputs": []
    },
    {
      "cell_type": "code",
      "source": [
        "'  Python'.lstrip()"
      ],
      "metadata": {
        "id": "KzsD2VLK5Oab"
      },
      "execution_count": null,
      "outputs": []
    },
    {
      "cell_type": "code",
      "source": [
        "'Python  '.rstrip()"
      ],
      "metadata": {
        "id": "_OHiNfVB5OX8"
      },
      "execution_count": null,
      "outputs": []
    },
    {
      "cell_type": "code",
      "source": [
        "'  Python  '.strip()"
      ],
      "metadata": {
        "id": "XNTQvbz95OVp"
      },
      "execution_count": null,
      "outputs": []
    },
    {
      "cell_type": "code",
      "source": [
        "'Python   Programming'.replace('  ', '')"
      ],
      "metadata": {
        "id": "dDOlFYc65OS-"
      },
      "execution_count": null,
      "outputs": []
    },
    {
      "cell_type": "code",
      "source": [
        "word3.split()  #split a text into list of words"
      ],
      "metadata": {
        "id": "Y0Eb3kEF9EX_"
      },
      "execution_count": null,
      "outputs": []
    },
    {
      "cell_type": "code",
      "source": [
        "list_of_words = word3.split()"
      ],
      "metadata": {
        "id": "tq0m2C299EUZ"
      },
      "execution_count": null,
      "outputs": []
    },
    {
      "cell_type": "code",
      "source": [
        "' '.join(list_of_words)"
      ],
      "metadata": {
        "id": "kGDbAFWo9EPm"
      },
      "execution_count": null,
      "outputs": []
    },
    {
      "cell_type": "code",
      "source": [
        "'-'.join(list_of_words)"
      ],
      "metadata": {
        "id": "ZeR6mgoJ9EME"
      },
      "execution_count": null,
      "outputs": []
    },
    {
      "cell_type": "markdown",
      "source": [
        "# **User Input and String Formatting**"
      ],
      "metadata": {
        "id": "tJ2ohhrP9Nff"
      }
    },
    {
      "cell_type": "code",
      "source": [
        "age = input('Enter your age: ')"
      ],
      "metadata": {
        "id": "C-FnMgjr9EJp"
      },
      "execution_count": null,
      "outputs": []
    },
    {
      "cell_type": "code",
      "source": [
        "type(age)"
      ],
      "metadata": {
        "id": "QvXblkbZ9EHU"
      },
      "execution_count": null,
      "outputs": []
    },
    {
      "cell_type": "code",
      "source": [
        "age = int(input('Enter your age: '))"
      ],
      "metadata": {
        "id": "novoV5Na9Znd"
      },
      "execution_count": null,
      "outputs": []
    },
    {
      "cell_type": "code",
      "source": [
        "type(age)"
      ],
      "metadata": {
        "id": "6q_y9Vd_9bi1"
      },
      "execution_count": null,
      "outputs": []
    },
    {
      "cell_type": "code",
      "source": [
        "name = input('Enter your name: ')"
      ],
      "metadata": {
        "id": "cfJyBId29bfb"
      },
      "execution_count": null,
      "outputs": []
    },
    {
      "cell_type": "code",
      "source": [
        "place = input('Enter your place of stay: ')"
      ],
      "metadata": {
        "id": "NzOyDlJy9bc1"
      },
      "execution_count": null,
      "outputs": []
    },
    {
      "cell_type": "code",
      "source": [
        "#string formatting\n",
        "print(f'My name is {name}, I am {age} years old and I stay in {place}.')"
      ],
      "metadata": {
        "id": "_gbVwIjV9baR"
      },
      "execution_count": null,
      "outputs": []
    },
    {
      "cell_type": "markdown",
      "source": [
        "**Creating Multiline Strings**"
      ],
      "metadata": {
        "id": "nXHCvrML_ZKt"
      }
    },
    {
      "cell_type": "code",
      "source": [
        "text = \"Hello,\\nWorld!\"      #\\n character in Python is a newline character\n",
        "print(text)\n"
      ],
      "metadata": {
        "colab": {
          "base_uri": "https://localhost:8080/"
        },
        "id": "VcpLXCQc9bXq",
        "outputId": "3d017ce0-a140-4801-df08-fae232393708"
      },
      "execution_count": null,
      "outputs": [
        {
          "output_type": "stream",
          "name": "stdout",
          "text": [
            "Hello,\n",
            "World!\n"
          ]
        }
      ]
    },
    {
      "cell_type": "code",
      "source": [
        "message = \"Hello,\\n\\tWelcome to Python programming!\"\n",
        "print(message)\n"
      ],
      "metadata": {
        "colab": {
          "base_uri": "https://localhost:8080/"
        },
        "id": "OxvEfKyj9bVJ",
        "outputId": "0e126e5a-0674-4d68-bb75-72f45f91d643"
      },
      "execution_count": null,
      "outputs": [
        {
          "output_type": "stream",
          "name": "stdout",
          "text": [
            "Hello,\n",
            "\tWelcome to Python programming!\n"
          ]
        }
      ]
    },
    {
      "cell_type": "code",
      "source": [
        "poem = \"\"\"\n",
        "Roses are red,\n",
        "Violets are blue,\n",
        "Sugar is sweet\n",
        "\"\"\"\n",
        "print(poem)"
      ],
      "metadata": {
        "colab": {
          "base_uri": "https://localhost:8080/"
        },
        "id": "02toROm99bSp",
        "outputId": "31f90973-c5dd-4353-c8e5-51b20f94db92"
      },
      "execution_count": null,
      "outputs": [
        {
          "output_type": "stream",
          "name": "stdout",
          "text": [
            "\n",
            "Roses are red,\n",
            "Violets are blue,\n",
            "Sugar is sweet\n",
            "\n"
          ]
        }
      ]
    },
    {
      "cell_type": "code",
      "source": [],
      "metadata": {
        "id": "UL5sYkB09bP4"
      },
      "execution_count": null,
      "outputs": []
    }
  ]
}