{
  "nbformat": 4,
  "nbformat_minor": 0,
  "metadata": {
    "colab": {
      "provenance": [],
      "authorship_tag": "ABX9TyPSZ192bxyziheNrVbc3u33",
      "include_colab_link": true
    },
    "kernelspec": {
      "name": "python3",
      "display_name": "Python 3"
    },
    "language_info": {
      "name": "python"
    }
  },
  "cells": [
    {
      "cell_type": "markdown",
      "metadata": {
        "id": "view-in-github",
        "colab_type": "text"
      },
      "source": [
        "<a href=\"https://colab.research.google.com/github/kalai2315/Python_Basics/blob/main/list_tuples_dictionaries_sets.ipynb\" target=\"_parent\"><img src=\"https://colab.research.google.com/assets/colab-badge.svg\" alt=\"Open In Colab\"/></a>"
      ]
    },
    {
      "cell_type": "code",
      "execution_count": null,
      "metadata": {
        "id": "uSx2uxHHUyHD"
      },
      "outputs": [],
      "source": [
        "list1 = [10,20,30,40,50,60,70,60.7, 90.1, 'Python', [11,12,13,14]]"
      ]
    },
    {
      "cell_type": "code",
      "source": [
        "list1"
      ],
      "metadata": {
        "id": "uQJm7NwcWqEQ"
      },
      "execution_count": null,
      "outputs": []
    },
    {
      "cell_type": "code",
      "source": [
        "list2 = [10,20,30,40,50,60,70]"
      ],
      "metadata": {
        "id": "ZgqmN5ZgWuPU"
      },
      "execution_count": null,
      "outputs": []
    },
    {
      "cell_type": "code",
      "source": [
        "list3 = ['Python', 'Maths', 'Stats', 'Machine', 'Learning']"
      ],
      "metadata": {
        "id": "6UuOgmbjWv6A"
      },
      "execution_count": null,
      "outputs": []
    },
    {
      "cell_type": "markdown",
      "source": [
        "**indexing and slicing**"
      ],
      "metadata": {
        "id": "GQiNF3Y5WzDE"
      }
    },
    {
      "cell_type": "code",
      "source": [
        "list2"
      ],
      "metadata": {
        "id": "l78MNOgXW16L",
        "colab": {
          "base_uri": "https://localhost:8080/"
        },
        "outputId": "a2e2404d-7b6c-4e97-e8c8-d749f921e807"
      },
      "execution_count": null,
      "outputs": [
        {
          "output_type": "execute_result",
          "data": {
            "text/plain": [
              "[10, 20, 30, 40, 50, 60, 70]"
            ]
          },
          "metadata": {},
          "execution_count": 5
        }
      ]
    },
    {
      "cell_type": "code",
      "source": [
        "list2[3]"
      ],
      "metadata": {
        "id": "iESymOgyW9ig",
        "colab": {
          "base_uri": "https://localhost:8080/"
        },
        "outputId": "202852c5-e0e6-48e3-c94b-62041e68a9d0"
      },
      "execution_count": null,
      "outputs": [
        {
          "output_type": "execute_result",
          "data": {
            "text/plain": [
              "40"
            ]
          },
          "metadata": {},
          "execution_count": 6
        }
      ]
    },
    {
      "cell_type": "code",
      "source": [
        "list2[0]"
      ],
      "metadata": {
        "id": "wGmC1hgHW9fC",
        "colab": {
          "base_uri": "https://localhost:8080/"
        },
        "outputId": "263f374b-d278-446e-b18c-a1e2ba89245a"
      },
      "execution_count": null,
      "outputs": [
        {
          "output_type": "execute_result",
          "data": {
            "text/plain": [
              "10"
            ]
          },
          "metadata": {},
          "execution_count": 7
        }
      ]
    },
    {
      "cell_type": "code",
      "source": [
        "list2[2:5]"
      ],
      "metadata": {
        "id": "GmNVLJ7pW9cc",
        "colab": {
          "base_uri": "https://localhost:8080/"
        },
        "outputId": "7de749b9-570e-4a11-b7bd-5a1ae59ee31d"
      },
      "execution_count": null,
      "outputs": [
        {
          "output_type": "execute_result",
          "data": {
            "text/plain": [
              "[30, 40, 50]"
            ]
          },
          "metadata": {},
          "execution_count": 8
        }
      ]
    },
    {
      "cell_type": "code",
      "source": [
        "list2[4:7]"
      ],
      "metadata": {
        "id": "7Ms6Z2APW9Z3",
        "colab": {
          "base_uri": "https://localhost:8080/"
        },
        "outputId": "037baade-b5fa-4467-ae13-97eb9e35ec2b"
      },
      "execution_count": null,
      "outputs": [
        {
          "output_type": "execute_result",
          "data": {
            "text/plain": [
              "[50, 60, 70]"
            ]
          },
          "metadata": {},
          "execution_count": 9
        }
      ]
    },
    {
      "cell_type": "code",
      "source": [
        "list2[0:7:2]"
      ],
      "metadata": {
        "id": "4b_oFxIWW9XV",
        "colab": {
          "base_uri": "https://localhost:8080/"
        },
        "outputId": "7fc82071-5d72-4c0c-a658-f6cfc0dc42fc"
      },
      "execution_count": null,
      "outputs": [
        {
          "output_type": "execute_result",
          "data": {
            "text/plain": [
              "[10, 30, 50, 70]"
            ]
          },
          "metadata": {},
          "execution_count": 10
        }
      ]
    },
    {
      "cell_type": "code",
      "source": [
        "list2[0:2] + list2[5:7]"
      ],
      "metadata": {
        "id": "oEPfmG1qW9Ux",
        "colab": {
          "base_uri": "https://localhost:8080/"
        },
        "outputId": "12d126d3-07fe-4123-a96c-a3c3bc962628"
      },
      "execution_count": null,
      "outputs": [
        {
          "output_type": "execute_result",
          "data": {
            "text/plain": [
              "[10, 20, 60, 70]"
            ]
          },
          "metadata": {},
          "execution_count": 11
        }
      ]
    },
    {
      "cell_type": "code",
      "source": [
        "list2[1:2] + list2[4:6]"
      ],
      "metadata": {
        "id": "5XzhWMfRW9ST"
      },
      "execution_count": null,
      "outputs": []
    },
    {
      "cell_type": "markdown",
      "source": [
        "**Mutable Properties of a list**"
      ],
      "metadata": {
        "id": "TMy_L4n1XLIN"
      }
    },
    {
      "cell_type": "code",
      "source": [
        "list2"
      ],
      "metadata": {
        "id": "HUdqFxhzXKoD",
        "colab": {
          "base_uri": "https://localhost:8080/"
        },
        "outputId": "7528e725-aac6-4a39-c307-cfb975e36cf3"
      },
      "execution_count": null,
      "outputs": [
        {
          "output_type": "execute_result",
          "data": {
            "text/plain": [
              "[10, 20, 30, 40, 50, 60, 70]"
            ]
          },
          "metadata": {},
          "execution_count": 12
        }
      ]
    },
    {
      "cell_type": "code",
      "source": [
        "list2[3] = 67"
      ],
      "metadata": {
        "id": "FqM4Z31-XQBE"
      },
      "execution_count": null,
      "outputs": []
    },
    {
      "cell_type": "code",
      "source": [
        "list2[0:3] = [11, 35, 44]"
      ],
      "metadata": {
        "id": "tIGgs2NxXSCO"
      },
      "execution_count": null,
      "outputs": []
    },
    {
      "cell_type": "code",
      "source": [
        "list2[0:3] = [100]"
      ],
      "metadata": {
        "id": "78UwzxrcXUz5"
      },
      "execution_count": null,
      "outputs": []
    },
    {
      "cell_type": "code",
      "source": [
        "list2"
      ],
      "metadata": {
        "id": "xlYyqW-JXfFL",
        "colab": {
          "base_uri": "https://localhost:8080/"
        },
        "outputId": "cda84202-31e5-4db0-fccc-0be304a97e80"
      },
      "execution_count": null,
      "outputs": [
        {
          "output_type": "execute_result",
          "data": {
            "text/plain": [
              "[10, 20, 30, 67, 50, 60, 70]"
            ]
          },
          "metadata": {},
          "execution_count": 14
        }
      ]
    },
    {
      "cell_type": "code",
      "source": [
        "list1"
      ],
      "metadata": {
        "id": "AEhdjjNrXgrP",
        "colab": {
          "base_uri": "https://localhost:8080/"
        },
        "outputId": "8b5ee807-3186-4cf7-9b56-5e8f096712e9"
      },
      "execution_count": null,
      "outputs": [
        {
          "output_type": "execute_result",
          "data": {
            "text/plain": [
              "[10, 20, 30, 40, 50, 60, 70, 60.7, 90.1, 'Python', [11, 12, 13, 14]]"
            ]
          },
          "metadata": {},
          "execution_count": 16
        }
      ]
    },
    {
      "cell_type": "code",
      "source": [
        "list1[10]"
      ],
      "metadata": {
        "id": "SFAq-T_lXhfy"
      },
      "execution_count": null,
      "outputs": []
    },
    {
      "cell_type": "code",
      "source": [
        "list1.index(90.1)"
      ],
      "metadata": {
        "id": "VOdKW0EDXkdp",
        "colab": {
          "base_uri": "https://localhost:8080/"
        },
        "outputId": "ee321765-830d-4cac-b795-4bcdee9b352a"
      },
      "execution_count": null,
      "outputs": [
        {
          "output_type": "execute_result",
          "data": {
            "text/plain": [
              "8"
            ]
          },
          "metadata": {},
          "execution_count": 15
        }
      ]
    },
    {
      "cell_type": "code",
      "source": [
        "list1.index([11, 12, 13, 14])"
      ],
      "metadata": {
        "id": "3H1Mpy1OXxXb",
        "colab": {
          "base_uri": "https://localhost:8080/"
        },
        "outputId": "63baec71-bc13-42c9-8c20-ecc6ab2d2d5e"
      },
      "execution_count": null,
      "outputs": [
        {
          "output_type": "execute_result",
          "data": {
            "text/plain": [
              "10"
            ]
          },
          "metadata": {},
          "execution_count": 17
        }
      ]
    },
    {
      "cell_type": "code",
      "source": [
        "list1[10][2] = 42"
      ],
      "metadata": {
        "id": "YZempnCTX3O6"
      },
      "execution_count": null,
      "outputs": []
    },
    {
      "cell_type": "code",
      "source": [
        "list1"
      ],
      "metadata": {
        "id": "VhEoIngrXy0c",
        "colab": {
          "base_uri": "https://localhost:8080/"
        },
        "outputId": "a2324f71-c23b-4584-f036-02825e26cf28"
      },
      "execution_count": null,
      "outputs": [
        {
          "output_type": "execute_result",
          "data": {
            "text/plain": [
              "[10, 20, 30, 40, 50, 60, 70, 60.7, 90.1, 'Python', [11, 12, 42, 14]]"
            ]
          },
          "metadata": {},
          "execution_count": 19
        }
      ]
    },
    {
      "cell_type": "markdown",
      "source": [
        "### Inserting the values in the list"
      ],
      "metadata": {
        "id": "AvrzpLGwX6Yu"
      }
    },
    {
      "cell_type": "code",
      "source": [
        "list2"
      ],
      "metadata": {
        "id": "haOMgnHqX9nX"
      },
      "execution_count": null,
      "outputs": []
    },
    {
      "cell_type": "code",
      "source": [
        "#insert a single value in a list at the end\n",
        "list2.append(100)"
      ],
      "metadata": {
        "id": "4ctbdg7OYBgn"
      },
      "execution_count": null,
      "outputs": []
    },
    {
      "cell_type": "code",
      "source": [
        "list2.append(5)"
      ],
      "metadata": {
        "id": "aFNAUgCXYES-"
      },
      "execution_count": null,
      "outputs": []
    },
    {
      "cell_type": "code",
      "source": [
        "list2.append('Maths')"
      ],
      "metadata": {
        "id": "1N5QV14dYGBw"
      },
      "execution_count": null,
      "outputs": []
    },
    {
      "cell_type": "code",
      "source": [
        "#insert multiple values into the list\n",
        "list2.extend([66, 87, 92])"
      ],
      "metadata": {
        "id": "t_bpQaFvYJFj"
      },
      "execution_count": null,
      "outputs": []
    },
    {
      "cell_type": "code",
      "source": [
        "#append insert the given list as it is into the original list\n",
        "list2.append([90, 33])"
      ],
      "metadata": {
        "id": "kotBpl8mYNuB"
      },
      "execution_count": null,
      "outputs": []
    },
    {
      "cell_type": "code",
      "source": [
        "#insert an item at a particular item\n",
        "list2.insert(2, 200)"
      ],
      "metadata": {
        "id": "2gWBabpnYWa5"
      },
      "execution_count": null,
      "outputs": []
    },
    {
      "cell_type": "markdown",
      "source": [
        "Removing values from the list"
      ],
      "metadata": {
        "id": "5Hx-AEe_aM46"
      }
    },
    {
      "cell_type": "code",
      "source": [
        "list2"
      ],
      "metadata": {
        "id": "IdQHATTcZmc5"
      },
      "execution_count": null,
      "outputs": []
    },
    {
      "cell_type": "code",
      "source": [
        "list2.pop(0)"
      ],
      "metadata": {
        "id": "s5_D1gP1aRN8"
      },
      "execution_count": null,
      "outputs": []
    },
    {
      "cell_type": "code",
      "source": [
        "list2.pop(5)"
      ],
      "metadata": {
        "id": "XR2bQ4PeaThG"
      },
      "execution_count": null,
      "outputs": []
    },
    {
      "cell_type": "code",
      "source": [
        "list2.remove('Maths')"
      ],
      "metadata": {
        "id": "muWsGEibacQ7"
      },
      "execution_count": null,
      "outputs": []
    },
    {
      "cell_type": "code",
      "source": [
        "del list2[0:2]"
      ],
      "metadata": {
        "id": "9DP7xt16aexq"
      },
      "execution_count": null,
      "outputs": []
    },
    {
      "cell_type": "markdown",
      "source": [
        "Methods on the list"
      ],
      "metadata": {
        "id": "78__Am8XagzG"
      }
    },
    {
      "cell_type": "code",
      "source": [
        "list2"
      ],
      "metadata": {
        "id": "ROLlphziajI3"
      },
      "execution_count": null,
      "outputs": []
    },
    {
      "cell_type": "code",
      "source": [
        "list3 = list2.copy()"
      ],
      "metadata": {
        "id": "9oLHiUWsalOd"
      },
      "execution_count": null,
      "outputs": []
    },
    {
      "cell_type": "code",
      "source": [
        "id(list3)"
      ],
      "metadata": {
        "id": "o5TW0UHKatWd"
      },
      "execution_count": null,
      "outputs": []
    },
    {
      "cell_type": "code",
      "source": [
        "list2.sort() #sort the list by default in ascending order"
      ],
      "metadata": {
        "id": "JQ0Nt1VrawXd"
      },
      "execution_count": null,
      "outputs": []
    },
    {
      "cell_type": "code",
      "source": [
        "list2.sort(reverse = True)"
      ],
      "metadata": {
        "id": "YWtCHC28ayox"
      },
      "execution_count": null,
      "outputs": []
    },
    {
      "cell_type": "code",
      "source": [
        "sorted_list3 = sorted(list3)"
      ],
      "metadata": {
        "id": "q69IzNXCbFjq"
      },
      "execution_count": null,
      "outputs": []
    },
    {
      "cell_type": "code",
      "source": [
        "\n",
        "sorted(list3, reverse = True)"
      ],
      "metadata": {
        "id": "UdJ3qGk-bJjw"
      },
      "execution_count": null,
      "outputs": []
    },
    {
      "cell_type": "code",
      "source": [
        "list2.reverse()"
      ],
      "metadata": {
        "id": "B6R7UEjHbMVi"
      },
      "execution_count": null,
      "outputs": []
    },
    {
      "cell_type": "code",
      "source": [
        "len(list3)"
      ],
      "metadata": {
        "id": "qVrZ_3oabVgn"
      },
      "execution_count": null,
      "outputs": []
    },
    {
      "cell_type": "code",
      "source": [
        "min(list3)"
      ],
      "metadata": {
        "id": "b8rjIAAgbXMu"
      },
      "execution_count": null,
      "outputs": []
    },
    {
      "cell_type": "code",
      "source": [
        "sum(list3)"
      ],
      "metadata": {
        "id": "znfG7qYGbZNH"
      },
      "execution_count": null,
      "outputs": []
    },
    {
      "cell_type": "markdown",
      "source": [
        "# **Tuples**\n",
        "\n",
        "It is a collection of mix data type.\n",
        "\n",
        "It is immutable."
      ],
      "metadata": {
        "id": "bziS6s5gbbJj"
      }
    },
    {
      "cell_type": "code",
      "source": [
        "tuple1 = (10,20,30,40,50,70.6, 44.3)"
      ],
      "metadata": {
        "id": "oLehEMqZbfyL"
      },
      "execution_count": null,
      "outputs": []
    },
    {
      "cell_type": "code",
      "source": [
        "tuple1[3]"
      ],
      "metadata": {
        "id": "HAAiWWbxbhRP"
      },
      "execution_count": null,
      "outputs": []
    },
    {
      "cell_type": "code",
      "source": [
        "tuple1[2:7:2]"
      ],
      "metadata": {
        "id": "jHxyYXULbiqD"
      },
      "execution_count": null,
      "outputs": []
    },
    {
      "cell_type": "code",
      "source": [
        "tuple1[5] = 900"
      ],
      "metadata": {
        "id": "DULsxeANbqeo"
      },
      "execution_count": null,
      "outputs": []
    },
    {
      "cell_type": "code",
      "source": [
        "user_pins = (1001, 9987, 9943, 2234, 6676, 5543)"
      ],
      "metadata": {
        "id": "NweUmsPybvAv"
      },
      "execution_count": null,
      "outputs": []
    },
    {
      "cell_type": "code",
      "source": [
        "temp = list(user_pins)"
      ],
      "metadata": {
        "id": "yMgQ08xZbxD6"
      },
      "execution_count": null,
      "outputs": []
    },
    {
      "cell_type": "code",
      "source": [
        "temp.append(1100)"
      ],
      "metadata": {
        "id": "F4_FdAX_b11K"
      },
      "execution_count": null,
      "outputs": []
    },
    {
      "cell_type": "code",
      "source": [
        "user_pins = tuple(temp)"
      ],
      "metadata": {
        "id": "vgzzzsObb4FY"
      },
      "execution_count": null,
      "outputs": []
    },
    {
      "cell_type": "code",
      "source": [
        "user_pins"
      ],
      "metadata": {
        "id": "RN3-Df-Tb6Yy"
      },
      "execution_count": null,
      "outputs": []
    },
    {
      "cell_type": "markdown",
      "source": [
        "**Methods in tuple**"
      ],
      "metadata": {
        "id": "lxTltbKqb8Uj"
      }
    },
    {
      "cell_type": "code",
      "source": [
        "tuple1"
      ],
      "metadata": {
        "id": "ShWkPDf3b9mz"
      },
      "execution_count": null,
      "outputs": []
    },
    {
      "cell_type": "code",
      "source": [
        "tuple1.sort()"
      ],
      "metadata": {
        "id": "1Lh8WQnDcALJ"
      },
      "execution_count": null,
      "outputs": []
    },
    {
      "cell_type": "code",
      "source": [
        "tuple(sorted(tuple1))"
      ],
      "metadata": {
        "id": "pk95xPI1cEAd"
      },
      "execution_count": null,
      "outputs": []
    },
    {
      "cell_type": "code",
      "source": [
        "tuple(sorted(tuple1, reverse = True))"
      ],
      "metadata": {
        "id": "SRLVxZMacFjf"
      },
      "execution_count": null,
      "outputs": []
    },
    {
      "cell_type": "code",
      "source": [
        "tuple1.index(30)"
      ],
      "metadata": {
        "id": "--S3FvDbcIq5"
      },
      "execution_count": null,
      "outputs": []
    },
    {
      "cell_type": "code",
      "source": [
        "min(tuple1)"
      ],
      "metadata": {
        "id": "zYXZLXS0cKdR"
      },
      "execution_count": null,
      "outputs": []
    },
    {
      "cell_type": "code",
      "source": [
        "sum(tuple1)"
      ],
      "metadata": {
        "id": "WD-dKwjlcMK3"
      },
      "execution_count": null,
      "outputs": []
    },
    {
      "cell_type": "markdown",
      "source": [
        "**Sets**\n",
        "\n",
        "Sets are mutable data types.\n",
        "\n",
        "Set is unordered collection of items.\n",
        "\n",
        "Set only allow unique values to be stored."
      ],
      "metadata": {
        "id": "lSJ5zlSjcM4e"
      }
    },
    {
      "cell_type": "code",
      "source": [
        "set1 = {10, 20, 30, 30, 40, 50, 50, 60, 70, 80, 90}"
      ],
      "metadata": {
        "id": "abngGoKacUl_"
      },
      "execution_count": null,
      "outputs": []
    },
    {
      "cell_type": "code",
      "source": [
        "print(set1) #only unique values in the set and they are unordered by default."
      ],
      "metadata": {
        "id": "SYYyLf5gcVTt"
      },
      "execution_count": null,
      "outputs": []
    },
    {
      "cell_type": "code",
      "source": [
        "#indexing and slicing doesn't work in set since they are unordered\n",
        "set1[3]"
      ],
      "metadata": {
        "id": "vOWfcEzccVQN"
      },
      "execution_count": null,
      "outputs": []
    },
    {
      "cell_type": "code",
      "source": [
        "list1 = [10, 20, 30, 30, 40, 50, 50, 60, 70, 80, 90]"
      ],
      "metadata": {
        "id": "jGEOdF0KcVNu"
      },
      "execution_count": null,
      "outputs": []
    },
    {
      "cell_type": "code",
      "source": [
        "list1 = list(set(list1))"
      ],
      "metadata": {
        "id": "sPixnIDOcVKw"
      },
      "execution_count": null,
      "outputs": []
    },
    {
      "cell_type": "code",
      "source": [
        "#final result is a list with unique elements\n",
        "list1"
      ],
      "metadata": {
        "id": "NZP09qllcVIH"
      },
      "execution_count": null,
      "outputs": []
    },
    {
      "cell_type": "markdown",
      "source": [
        "Inserting values into a set"
      ],
      "metadata": {
        "id": "vmMy6oladcWA"
      }
    },
    {
      "cell_type": "code",
      "source": [
        "#to insert one element into a set at a time\n",
        "set1.add(100)"
      ],
      "metadata": {
        "id": "n9AGqQHUcVFr"
      },
      "execution_count": null,
      "outputs": []
    },
    {
      "cell_type": "code",
      "source": [
        "print(set1)"
      ],
      "metadata": {
        "id": "D5QGpanEcVDf"
      },
      "execution_count": null,
      "outputs": []
    },
    {
      "cell_type": "code",
      "source": [
        "#to insert multiple values into the set\n",
        "set1.update({89, 45, 77})"
      ],
      "metadata": {
        "id": "e8xWBC9Pdheo"
      },
      "execution_count": null,
      "outputs": []
    },
    {
      "cell_type": "code",
      "source": [
        "print(set1)"
      ],
      "metadata": {
        "id": "tgSNZ7-jdjIY"
      },
      "execution_count": null,
      "outputs": []
    },
    {
      "cell_type": "markdown",
      "source": [
        "Delete Values from a set"
      ],
      "metadata": {
        "id": "LENHjB4tdmOj"
      }
    },
    {
      "cell_type": "code",
      "source": [
        "#remove an item from the set randomly\n",
        "set1.pop()"
      ],
      "metadata": {
        "id": "JG7XCejrdkwg"
      },
      "execution_count": null,
      "outputs": []
    },
    {
      "cell_type": "code",
      "source": [
        "#remove a particular item from the set\n",
        "set1.remove(89)"
      ],
      "metadata": {
        "id": "MOQwU9JndpkH"
      },
      "execution_count": null,
      "outputs": []
    },
    {
      "cell_type": "code",
      "source": [
        "#remove item using `discard` method\n",
        "set1.discard(90)"
      ],
      "metadata": {
        "id": "CR76bbAkdrG0"
      },
      "execution_count": null,
      "outputs": []
    },
    {
      "cell_type": "code",
      "source": [
        "set1.remove(900)"
      ],
      "metadata": {
        "id": "3VrcLyfWdstJ"
      },
      "execution_count": null,
      "outputs": []
    },
    {
      "cell_type": "code",
      "source": [
        "set1.discard(900)"
      ],
      "metadata": {
        "id": "HNAkFp3VduEv"
      },
      "execution_count": null,
      "outputs": []
    },
    {
      "cell_type": "markdown",
      "source": [
        "**Some Set Methods**\n",
        "\n",
        "Union\n",
        "\n",
        "Intersection\n",
        "\n",
        "Difference\n",
        "\n",
        "Symmetric Difference\n",
        "\n",
        "isdisjoint\n",
        "\n",
        "issubset\n",
        "\n",
        "issuperset"
      ],
      "metadata": {
        "id": "_udGlfVMdy4r"
      }
    },
    {
      "cell_type": "code",
      "source": [
        "set2 = {10,20,30,40,50,60,70}\n",
        "set3 = {60,70,80,90,100,110,120}"
      ],
      "metadata": {
        "id": "nUdCRxomd351"
      },
      "execution_count": null,
      "outputs": []
    },
    {
      "cell_type": "code",
      "source": [
        "#set of items from the both the sets which must be unique\n",
        "set2.union(set3)"
      ],
      "metadata": {
        "id": "ewURA0xEd4lt"
      },
      "execution_count": null,
      "outputs": []
    },
    {
      "cell_type": "code",
      "source": [
        "#common elements in both the sets\n",
        "set2.intersection(set3)"
      ],
      "metadata": {
        "id": "Wii1mTN-d4iQ"
      },
      "execution_count": null,
      "outputs": []
    },
    {
      "cell_type": "code",
      "source": [
        "#items which are purely in set2 and no items belonging to set3\n",
        "set2.difference(set3)"
      ],
      "metadata": {
        "id": "mnkjB2yZd4fj"
      },
      "execution_count": null,
      "outputs": []
    },
    {
      "cell_type": "code",
      "source": [
        "#items that belong to set3 and no items belonging to set2\n",
        "set3.difference(set2)"
      ],
      "metadata": {
        "id": "xaHC5XVrd4c1"
      },
      "execution_count": null,
      "outputs": []
    },
    {
      "cell_type": "code",
      "source": [
        "#set of items from set2 and set3 except the common ones\n",
        "set2.symmetric_difference(set3)"
      ],
      "metadata": {
        "id": "dNefk3VQd4aF"
      },
      "execution_count": null,
      "outputs": []
    },
    {
      "cell_type": "code",
      "source": [
        "#return True if no elements in two sets are common\n",
        "set2.isdisjoint(set3)"
      ],
      "metadata": {
        "id": "6rIwiqXGd4Xe"
      },
      "execution_count": null,
      "outputs": []
    },
    {
      "cell_type": "code",
      "source": [
        "set4 = {10, 30, 40, 50}"
      ],
      "metadata": {
        "id": "kifj67add4VU"
      },
      "execution_count": null,
      "outputs": []
    },
    {
      "cell_type": "code",
      "source": [
        "#if every element of set4 is in set2 then set4 is subset of set2\n",
        "set4.issubset(set2)"
      ],
      "metadata": {
        "id": "hxBUa55FeHN1"
      },
      "execution_count": null,
      "outputs": []
    },
    {
      "cell_type": "code",
      "source": [
        "#reverse of subset where every element of set4 must be in set2\n",
        "set2.issuperset(set4)"
      ],
      "metadata": {
        "id": "Zis8PJtmeHLW"
      },
      "execution_count": null,
      "outputs": []
    },
    {
      "cell_type": "markdown",
      "source": [
        "**Dictionaries**\n",
        "\n",
        "Dictionaries are unordered collection of items.\n",
        "\n",
        "It is a mutable data types.\n",
        "\n",
        "It stores key-value pairs.\n",
        "\n",
        "It only allow unique values."
      ],
      "metadata": {
        "id": "8eu7abf0eLTl"
      }
    },
    {
      "cell_type": "code",
      "source": [
        "dict1 = {'name': 'Kalai', 'place': 'India', 'roles': ['Data Scientist', 'Data Science Trainer'],\n",
        "         'hobbies': ('coding', 'books'), 'education': {1: 'Masters', 2: 'Bachelors'}}"
      ],
      "metadata": {
        "id": "5R9KimnReHIn"
      },
      "execution_count": null,
      "outputs": []
    },
    {
      "cell_type": "code",
      "source": [
        "dict1"
      ],
      "metadata": {
        "colab": {
          "base_uri": "https://localhost:8080/"
        },
        "id": "i2Tpab0TeHF4",
        "outputId": "7bcb0e1c-2881-4a22-b106-800fd638b8ee"
      },
      "execution_count": null,
      "outputs": [
        {
          "output_type": "execute_result",
          "data": {
            "text/plain": [
              "{'name': 'Kalai',\n",
              " 'place': 'India',\n",
              " 'roles': ['Data Scientist', 'Data Science Trainer'],\n",
              " 'hobbies': ('hobbiy', 'books'),\n",
              " 'education': {1: 'Masters', 2: 'Bachelors'}}"
            ]
          },
          "metadata": {},
          "execution_count": 2
        }
      ]
    },
    {
      "cell_type": "markdown",
      "source": [
        "Accessing the values of a dictionary"
      ],
      "metadata": {
        "id": "cHwa6_G0fem_"
      }
    },
    {
      "cell_type": "code",
      "source": [
        "#to access a value from a dictionary we access the keys related to that value\n",
        "x= dict1['roles']\n",
        "x"
      ],
      "metadata": {
        "id": "Dhdib1N8eHDo",
        "colab": {
          "base_uri": "https://localhost:8080/"
        },
        "outputId": "42a51fff-0975-4263-ec89-3c1f4ff00394"
      },
      "execution_count": null,
      "outputs": [
        {
          "output_type": "execute_result",
          "data": {
            "text/plain": [
              "['Data Scientist', 'Data Science Trainer']"
            ]
          },
          "metadata": {},
          "execution_count": 22
        }
      ]
    },
    {
      "cell_type": "code",
      "source": [
        "#alternate way to access the values of a dictionary\n",
        "dict1.get('roles')"
      ],
      "metadata": {
        "id": "qV_8wfGseHAq",
        "colab": {
          "base_uri": "https://localhost:8080/"
        },
        "outputId": "e4494507-cba6-4671-b53c-7a9f0c455807"
      },
      "execution_count": null,
      "outputs": [
        {
          "output_type": "execute_result",
          "data": {
            "text/plain": [
              "['Data Scientist', 'Data Science Trainer']"
            ]
          },
          "metadata": {},
          "execution_count": 23
        }
      ]
    },
    {
      "cell_type": "code",
      "source": [
        "#double indexing to access the data from inside the list of roles\n",
        "dict1['roles'][1]"
      ],
      "metadata": {
        "id": "e50ib3-geG9n",
        "colab": {
          "base_uri": "https://localhost:8080/",
          "height": 36
        },
        "outputId": "be66f6f7-36c5-4e81-94b1-3f59879763e0"
      },
      "execution_count": null,
      "outputs": [
        {
          "output_type": "execute_result",
          "data": {
            "text/plain": [
              "'Data Science Trainer'"
            ],
            "application/vnd.google.colaboratory.intrinsic+json": {
              "type": "string"
            }
          },
          "metadata": {},
          "execution_count": 24
        }
      ]
    },
    {
      "cell_type": "code",
      "source": [
        "#double indexing to access the data from inside the inner dictionary\n",
        "dict1['education'][2]"
      ],
      "metadata": {
        "colab": {
          "base_uri": "https://localhost:8080/",
          "height": 36
        },
        "id": "fQZnLMT_eG69",
        "outputId": "d085cc9e-872b-4bd7-c1b1-d40b5cdebf59"
      },
      "execution_count": null,
      "outputs": [
        {
          "output_type": "execute_result",
          "data": {
            "text/plain": [
              "'Bachelors'"
            ],
            "application/vnd.google.colaboratory.intrinsic+json": {
              "type": "string"
            }
          },
          "metadata": {},
          "execution_count": 25
        }
      ]
    },
    {
      "cell_type": "markdown",
      "source": [
        "Inserting values into a Dictionary"
      ],
      "metadata": {
        "id": "UahKnXIxfpQ-"
      }
    },
    {
      "cell_type": "code",
      "source": [
        "#to insert values in to a dictionary, we just need to provide new key and new value like dict[key] = value\n",
        "dict1['new_key'] = 45"
      ],
      "metadata": {
        "id": "jZVE4AoveG4a"
      },
      "execution_count": null,
      "outputs": []
    },
    {
      "cell_type": "code",
      "source": [
        "dict1.update({'name': 'KalaiM'})"
      ],
      "metadata": {
        "id": "wx_ocWkShj5U"
      },
      "execution_count": null,
      "outputs": []
    },
    {
      "cell_type": "code",
      "source": [
        "dict1"
      ],
      "metadata": {
        "colab": {
          "base_uri": "https://localhost:8080/"
        },
        "id": "beg-ifsXivS1",
        "outputId": "901808e4-1347-4744-97e2-524143ab004a"
      },
      "execution_count": null,
      "outputs": [
        {
          "output_type": "execute_result",
          "data": {
            "text/plain": [
              "{'name': 'KalaiM',\n",
              " 'place': 'India',\n",
              " 'roles': ['Data Scientist', 'Data Science Trainer'],\n",
              " 'hobbies': ('coding', 'books'),\n",
              " 'education': {1: 'Masters', 2: 'Bachelors'},\n",
              " 'new_key': 45}"
            ]
          },
          "metadata": {},
          "execution_count": 28
        }
      ]
    },
    {
      "cell_type": "code",
      "source": [
        "dict1.update({'colour': \"yellow\"})"
      ],
      "metadata": {
        "id": "5JkHo_-QixhG"
      },
      "execution_count": null,
      "outputs": []
    },
    {
      "cell_type": "code",
      "source": [
        "dict1"
      ],
      "metadata": {
        "colab": {
          "base_uri": "https://localhost:8080/"
        },
        "id": "Gu7rkqyxi-YA",
        "outputId": "4a0cee41-f169-46a5-ecb8-cbaac62aa20a"
      },
      "execution_count": null,
      "outputs": [
        {
          "output_type": "execute_result",
          "data": {
            "text/plain": [
              "{'name': 'KalaiM',\n",
              " 'place': 'India',\n",
              " 'roles': ['Data Scientist', 'Data Science Trainer'],\n",
              " 'hobbies': ('coding', 'books'),\n",
              " 'education': {1: 'Masters', 2: 'Bachelors'},\n",
              " 'new_key': 45,\n",
              " 'colour': 'yellow'}"
            ]
          },
          "metadata": {},
          "execution_count": 30
        }
      ]
    },
    {
      "cell_type": "code",
      "source": [
        "print(len(dict1))"
      ],
      "metadata": {
        "id": "3w2nzLQReG2A",
        "colab": {
          "base_uri": "https://localhost:8080/"
        },
        "outputId": "301160d8-0cac-4a10-98b5-7b90800b9f82"
      },
      "execution_count": null,
      "outputs": [
        {
          "output_type": "stream",
          "name": "stdout",
          "text": [
            "7\n"
          ]
        }
      ]
    },
    {
      "cell_type": "code",
      "source": [
        "print(type(dict1))"
      ],
      "metadata": {
        "id": "mCHuP2KnggFY",
        "colab": {
          "base_uri": "https://localhost:8080/"
        },
        "outputId": "be705cd9-91bc-4cc9-e778-e4fd0cf20e46"
      },
      "execution_count": null,
      "outputs": [
        {
          "output_type": "stream",
          "name": "stdout",
          "text": [
            "<class 'dict'>\n"
          ]
        }
      ]
    },
    {
      "cell_type": "markdown",
      "source": [
        "**Deleting values from a dictionary**"
      ],
      "metadata": {
        "id": "FVvqQNU_jPwL"
      }
    },
    {
      "cell_type": "code",
      "source": [
        "#remove the last inserted pair from the dictionary\n",
        "dict1.popitem()"
      ],
      "metadata": {
        "id": "JHHzNeCYgj-c"
      },
      "execution_count": null,
      "outputs": []
    },
    {
      "cell_type": "code",
      "source": [
        "#remove a particular pair using its key\n",
        "dict1.pop('new_key')"
      ],
      "metadata": {
        "id": "B0tertKpjRYM"
      },
      "execution_count": null,
      "outputs": []
    },
    {
      "cell_type": "code",
      "source": [
        "#alternate method of deleting a pair using del keyword\n",
        "del dict1['place']"
      ],
      "metadata": {
        "id": "3FzOHhFzjVX6"
      },
      "execution_count": null,
      "outputs": []
    },
    {
      "cell_type": "markdown",
      "source": [
        "**Dictionary Methods**"
      ],
      "metadata": {
        "id": "xO_oiNZFjXH-"
      }
    },
    {
      "cell_type": "code",
      "source": [
        "#returns a copy of the dictionary dict1\n",
        "dict2 = dict1.copy()"
      ],
      "metadata": {
        "id": "iIIuMj9CjZbq"
      },
      "execution_count": null,
      "outputs": []
    },
    {
      "cell_type": "code",
      "source": [
        "#returns a list of keys of dictionary\n",
        "dict1.keys()"
      ],
      "metadata": {
        "id": "3qNyKTsTjdGo",
        "colab": {
          "base_uri": "https://localhost:8080/"
        },
        "outputId": "48518dca-d91b-4f18-98cb-d022e8949ace"
      },
      "execution_count": null,
      "outputs": [
        {
          "output_type": "execute_result",
          "data": {
            "text/plain": [
              "dict_keys(['name', 'place', 'roles', 'hobbies', 'education', 'new_key', 'colour'])"
            ]
          },
          "metadata": {},
          "execution_count": 33
        }
      ]
    },
    {
      "cell_type": "code",
      "source": [
        "#returns a list of values of dictionary\n",
        "dict1.values()"
      ],
      "metadata": {
        "id": "X0juMfk0jhaa",
        "colab": {
          "base_uri": "https://localhost:8080/"
        },
        "outputId": "9d304b84-009f-4ff8-de34-1d44456552ef"
      },
      "execution_count": null,
      "outputs": [
        {
          "output_type": "execute_result",
          "data": {
            "text/plain": [
              "dict_values(['KalaiM', 'India', ['Data Scientist', 'Data Science Trainer'], ('coding', 'books'), {1: 'Masters', 2: 'Bachelors'}, 45, 'yellow'])"
            ]
          },
          "metadata": {},
          "execution_count": 34
        }
      ]
    },
    {
      "cell_type": "code",
      "source": [
        "#Returns a list containing a tuple for each key value pair\n",
        "dict1.items()"
      ],
      "metadata": {
        "id": "GVKVflfljhXC",
        "colab": {
          "base_uri": "https://localhost:8080/"
        },
        "outputId": "568a7e95-2d66-4908-c9a8-a52b851be07b"
      },
      "execution_count": null,
      "outputs": [
        {
          "output_type": "execute_result",
          "data": {
            "text/plain": [
              "dict_items([('name', 'KalaiM'), ('place', 'India'), ('roles', ['Data Scientist', 'Data Science Trainer']), ('hobbies', ('coding', 'books')), ('education', {1: 'Masters', 2: 'Bachelors'}), ('new_key', 45), ('colour', 'yellow')])"
            ]
          },
          "metadata": {},
          "execution_count": 35
        }
      ]
    },
    {
      "cell_type": "code",
      "source": [],
      "metadata": {
        "id": "5M9oYNKAjhUP"
      },
      "execution_count": null,
      "outputs": []
    }
  ]
}