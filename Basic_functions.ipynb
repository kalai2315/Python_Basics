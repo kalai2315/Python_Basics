{
  "cells": [
    {
      "cell_type": "markdown",
      "metadata": {
        "id": "view-in-github",
        "colab_type": "text"
      },
      "source": [
        "<a href=\"https://colab.research.google.com/github/kalai2315/Python_Basics/blob/main/Basic_functions.ipynb\" target=\"_parent\"><img src=\"https://colab.research.google.com/assets/colab-badge.svg\" alt=\"Open In Colab\"/></a>"
      ]
    },
    {
      "cell_type": "code",
      "source": [
        "def greet():\n",
        "  print(\"Hello, World\")"
      ],
      "metadata": {
        "id": "OVh2e4vraXF5"
      },
      "execution_count": null,
      "outputs": []
    },
    {
      "cell_type": "code",
      "source": [
        "greet()"
      ],
      "metadata": {
        "colab": {
          "base_uri": "https://localhost:8080/"
        },
        "id": "6Jjr7szBalzw",
        "outputId": "4d9f1810-59a0-4c3e-ba53-1db2212690c3"
      },
      "execution_count": null,
      "outputs": [
        {
          "output_type": "stream",
          "name": "stdout",
          "text": [
            "Hello, World\n"
          ]
        }
      ]
    },
    {
      "cell_type": "code",
      "execution_count": null,
      "metadata": {
        "colab": {
          "base_uri": "https://localhost:8080/"
        },
        "id": "v_W-cEw14fMg",
        "outputId": "4661d7f6-b01f-46ee-8854-ef69a5072183"
      },
      "outputs": [
        {
          "name": "stdout",
          "output_type": "stream",
          "text": [
            "Hello, World\n"
          ]
        }
      ],
      "source": [
        "def greet():\n",
        "  print(\"Hello, World\")\n",
        "\n",
        "greet()"
      ]
    },
    {
      "cell_type": "code",
      "source": [
        "def greet(x,y):# parametrs are variables\n",
        "  print(x + \" \" + y)\n",
        "\n",
        "greet(\"Hello\", \"World\") # arguments---> values"
      ],
      "metadata": {
        "id": "Tt5oZja_SVfg",
        "colab": {
          "base_uri": "https://localhost:8080/"
        },
        "outputId": "f56a3fa5-8b96-4bca-b731-66b500963e08"
      },
      "execution_count": null,
      "outputs": [
        {
          "output_type": "stream",
          "name": "stdout",
          "text": [
            "Hello World\n"
          ]
        }
      ]
    },
    {
      "cell_type": "code",
      "execution_count": null,
      "metadata": {
        "colab": {
          "base_uri": "https://localhost:8080/"
        },
        "id": "i_TufMb-4wtZ",
        "outputId": "7a9cc2d0-bcf4-4875-f494-e0c20677d878"
      },
      "outputs": [
        {
          "name": "stdout",
          "output_type": "stream",
          "text": [
            "6\n"
          ]
        }
      ],
      "source": [
        "def add(a,b):\n",
        "  return a+b\n",
        "\n",
        "output = add(2,4)\n",
        "print(output)"
      ]
    },
    {
      "cell_type": "code",
      "source": [
        "def add(a,b):\n",
        "  return a+b"
      ],
      "metadata": {
        "id": "Nv6O1OdRbUzi"
      },
      "execution_count": null,
      "outputs": []
    },
    {
      "cell_type": "code",
      "source": [
        "add(2,4)"
      ],
      "metadata": {
        "colab": {
          "base_uri": "https://localhost:8080/"
        },
        "id": "OerLmj7UbWiZ",
        "outputId": "92992638-fa61-4b82-bc6e-2ae5040b5f62"
      },
      "execution_count": null,
      "outputs": [
        {
          "output_type": "execute_result",
          "data": {
            "text/plain": [
              "6"
            ]
          },
          "metadata": {},
          "execution_count": 4
        }
      ]
    },
    {
      "cell_type": "code",
      "execution_count": null,
      "metadata": {
        "colab": {
          "base_uri": "https://localhost:8080/"
        },
        "id": "iT_pQ1s-5DWS",
        "outputId": "d768aa9c-61bb-4c9c-e75e-b395b9f742ec"
      },
      "outputs": [
        {
          "output_type": "stream",
          "name": "stdout",
          "text": [
            "The value of b is 10\n",
            "The new value of b is 100\n"
          ]
        }
      ],
      "source": [
        "\n",
        "def myfunc(b):\n",
        "  print(\"The value of b is\", b)\n",
        "  b=100\n",
        "  print(\"The new value of b is\", b)\n",
        "a=10\n",
        "#calling a function\n",
        "myfunc(a)\n",
        "\n"
      ]
    },
    {
      "cell_type": "code",
      "execution_count": null,
      "metadata": {
        "colab": {
          "base_uri": "https://localhost:8080/"
        },
        "id": "cIfYc_BW6Ury",
        "outputId": "ed1277d6-7733-4631-d272-9d5b2af1ad2b"
      },
      "outputs": [
        {
          "name": "stdout",
          "output_type": "stream",
          "text": [
            "The value of d is [10, 20, 30]\n",
            "The new value of d is [99, 20, 30]\n"
          ]
        }
      ],
      "source": [
        "\n",
        "def myfunc(d):\n",
        "  print(\"The value of d is\", d)\n",
        "  d[0]=99\n",
        "  print(\"The new value of d is\", d)\n",
        "c= [10,20,30]\n",
        "myfunc(c)"
      ]
    },
    {
      "cell_type": "code",
      "execution_count": null,
      "metadata": {
        "id": "6zD6S3An7gix",
        "colab": {
          "base_uri": "https://localhost:8080/"
        },
        "outputId": "7654278e-182c-4bd5-aff8-2313afb20eb2"
      },
      "outputs": [
        {
          "output_type": "stream",
          "name": "stdout",
          "text": [
            "apple\n",
            "banana\n",
            "cherry\n"
          ]
        }
      ],
      "source": [
        "def myfunc(food):\n",
        "  for x in food:\n",
        "    print(x)\n",
        "fruits = [\"apple\", \"banana\", \"cherry\"]\n",
        "myfunc(fruits)"
      ]
    },
    {
      "cell_type": "code",
      "execution_count": null,
      "metadata": {
        "colab": {
          "background_save": true,
          "base_uri": "https://localhost:8080/"
        },
        "id": "3JS9Aej1mY1X",
        "outputId": "f3a619d5-e849-4a20-e39e-d68cdaa1e775"
      },
      "outputs": [
        {
          "name": "stdout",
          "output_type": "stream",
          "text": [
            "['car', 'bike', 'cycle', 'scooter', 'car', 'bike', 'cycle', 'scooter', 'car', 'bike', 'cycle', 'scooter']\n"
          ]
        }
      ],
      "source": [
        "list = [\"car\", \"bike\", \"cycle\", \"scooter\"]\n",
        "\n",
        "def loop(x):\n",
        "  print(x*3)\n",
        "\n",
        "loop(list)"
      ]
    },
    {
      "cell_type": "code",
      "execution_count": null,
      "metadata": {
        "id": "3DCIh2HEm40G",
        "colab": {
          "base_uri": "https://localhost:8080/"
        },
        "outputId": "ec216476-c555-486c-83e7-4f045ceb560d"
      },
      "outputs": [
        {
          "output_type": "stream",
          "name": "stdout",
          "text": [
            "car car car \n",
            "bike bike bike \n",
            "cycle cycle cycle \n",
            "scooter scooter scooter \n"
          ]
        }
      ],
      "source": [
        "list = [\"car\", \"bike\", \"cycle\", \"scooter\"]\n",
        "\n",
        "def loop(x):\n",
        "  print((x+ \" \")*3)\n",
        "\n",
        "def map_simple(crazy, list):\n",
        "  for item in list:\n",
        "    crazy(item)\n",
        "\n",
        "map_simple(loop, list)"
      ]
    },
    {
      "cell_type": "markdown",
      "metadata": {
        "id": "yz8miLchad77"
      },
      "source": [
        "**function Arguments**\n",
        "\n",
        "Required Argumnents\n",
        "\n",
        "Keyword Argumnents\n",
        "\n",
        "Default Argumenst\n",
        "\n",
        "Variable length Argumnents"
      ]
    },
    {
      "cell_type": "code",
      "execution_count": null,
      "metadata": {
        "colab": {
          "base_uri": "https://localhost:8080/"
        },
        "id": "UfkqHT8iYw-4",
        "outputId": "edd4124d-6336-4075-b4d1-91e0be1551cf"
      },
      "outputs": [
        {
          "name": "stdout",
          "output_type": "stream",
          "text": [
            "Hello Monica, Good morning!\n"
          ]
        }
      ],
      "source": [
        "#required arguments\n",
        "def greet(name, msg):\n",
        "  print(\"Hello\", name + ', ' + msg)\n",
        "\n",
        "greet(\"Monica\", \"Good morning!\")\n",
        "#greet(\"Monica\") #error"
      ]
    },
    {
      "cell_type": "code",
      "execution_count": null,
      "metadata": {
        "colab": {
          "base_uri": "https://localhost:8080/"
        },
        "id": "uAnix3gObb7u",
        "outputId": "9120039e-3d37-41f1-e691-530423d84464"
      },
      "outputs": [
        {
          "name": "stdout",
          "output_type": "stream",
          "text": [
            "Hello Monica, Good morning!\n"
          ]
        }
      ],
      "source": [
        "#keyword arguments\n",
        "def greet(name, msg):\n",
        "  print(\"Hello\", name + ', ' + msg)\n",
        "\n",
        "greet( msg = \"Good morning!\", name = \"Monica\")"
      ]
    },
    {
      "cell_type": "code",
      "execution_count": null,
      "metadata": {
        "colab": {
          "base_uri": "https://localhost:8080/"
        },
        "id": "Nga5KG6yby4Y",
        "outputId": "566a8786-bd37-4f21-dd11-0719c0c8c59b"
      },
      "outputs": [
        {
          "name": "stdout",
          "output_type": "stream",
          "text": [
            "Hello Monica, How do you do?\n"
          ]
        }
      ],
      "source": [
        "#default arguments\n",
        "def greet(name, msg=\"Good morning!\"):\n",
        "  print(\"Hello\", name + ', ' + msg)\n",
        "\n",
        "greet(\"Monica\")\n",
        "greet(\"Monica\", \"How do you do?\")\n"
      ]
    },
    {
      "cell_type": "code",
      "execution_count": null,
      "metadata": {
        "id": "4Yt0PS5ddUoh"
      },
      "outputs": [],
      "source": [
        "def printinfo(name, age=35):\n",
        "  print(\"Name:\", name)\n",
        "  print(\"Age:\", age)\n",
        "  return;\n"
      ]
    },
    {
      "cell_type": "code",
      "execution_count": null,
      "metadata": {
        "colab": {
          "base_uri": "https://localhost:8080/"
        },
        "id": "KzNL2Rksd5S-",
        "outputId": "75c43ca9-0925-49db-b34d-2e99a335f135"
      },
      "outputs": [
        {
          "name": "stdout",
          "output_type": "stream",
          "text": [
            "Name: miki\n",
            "Age: 35\n"
          ]
        }
      ],
      "source": [
        "#printinfo(age=50, name=\"miki\")\n",
        "printinfo(name=\"miki\")"
      ]
    },
    {
      "cell_type": "code",
      "execution_count": null,
      "metadata": {
        "colab": {
          "base_uri": "https://localhost:8080/"
        },
        "id": "tJOrJQC0b9qJ",
        "outputId": "1c75c992-0bff-41c6-fba3-77662ae4c0d4"
      },
      "outputs": [
        {
          "name": "stdout",
          "output_type": "stream",
          "text": [
            "Hello Monica\n",
            "Hello Luke\n",
            "Hello Steve\n",
            "Hello John\n"
          ]
        }
      ],
      "source": [
        "#arbitrary arguments\n",
        "def greet(*names):\n",
        "  for name in names:\n",
        "    print(\"Hello\", name)\n",
        "\n",
        "greet(\"Monica\", \"Luke\", \"Steve\", \"John\")"
      ]
    },
    {
      "cell_type": "code",
      "execution_count": null,
      "metadata": {
        "colab": {
          "base_uri": "https://localhost:8080/"
        },
        "id": "sa-ex7ALcjwY",
        "outputId": "efdc58d5-8623-43da-8dbc-0592c7372f95"
      },
      "outputs": [
        {
          "name": "stdout",
          "output_type": "stream",
          "text": [
            "the output for a is  100\n",
            "the output for b is  (200, 300, 400, 500)\n"
          ]
        }
      ],
      "source": [
        "def varlen(a,*b):\n",
        "  print(\"the output for a is \", a)\n",
        "  print(\"the output for b is \", b)\n",
        "\n",
        "varlength = (100,200,300,400,500)\n",
        "varlen(*varlength)"
      ]
    },
    {
      "cell_type": "code",
      "execution_count": null,
      "metadata": {
        "id": "PWiZHPO_e5Sf"
      },
      "outputs": [],
      "source": [
        "# Normal function to calculate factorial\n",
        "def fact(n):\n",
        "    if n < 0:\n",
        "        return \"Enter a valid non-negative integer\"\n",
        "\n",
        "    if n == 0 or n == 1:\n",
        "        return 1\n",
        "\n",
        "    result = 1\n",
        "    for i in range(2, n + 1):\n",
        "        result *= i\n",
        "\n",
        "    return result\n"
      ]
    },
    {
      "cell_type": "code",
      "execution_count": null,
      "metadata": {
        "colab": {
          "base_uri": "https://localhost:8080/",
          "height": 36
        },
        "id": "vultmxe8fr1e",
        "outputId": "109e06df-09eb-4afa-d54d-4cd9926b301f"
      },
      "outputs": [
        {
          "data": {
            "application/vnd.google.colaboratory.intrinsic+json": {
              "type": "string"
            },
            "text/plain": [
              "'Enter a valid non-negative integer'"
            ]
          },
          "execution_count": 30,
          "metadata": {},
          "output_type": "execute_result"
        }
      ],
      "source": [
        "fact()"
      ]
    },
    {
      "cell_type": "markdown",
      "source": [
        "**Debugging**"
      ],
      "metadata": {
        "id": "iPLIuRaon2ew"
      }
    },
    {
      "cell_type": "code",
      "source": [
        "def divide_numbers(a, b):\n",
        "    return a / b\n",
        "\n",
        "x = 10\n",
        "y = 0\n",
        "result = divide_numbers(x, y)\n",
        "print(result)"
      ],
      "metadata": {
        "id": "FG3_A3G6n3hi"
      },
      "execution_count": null,
      "outputs": []
    },
    {
      "cell_type": "code",
      "source": [],
      "metadata": {
        "id": "-OISkrmZn8Iq"
      },
      "execution_count": null,
      "outputs": []
    },
    {
      "cell_type": "markdown",
      "source": [
        "# **lambda, filter(), and map()**"
      ],
      "metadata": {
        "id": "WK_ueL7aIIdW"
      }
    },
    {
      "cell_type": "markdown",
      "source": [
        "**A lambda function is an anonymous function defined using the lambda keyword. It can take multiple arguments but can only contain a single expression.**"
      ],
      "metadata": {
        "id": "oNPV8C0ZKQpi"
      }
    },
    {
      "cell_type": "code",
      "execution_count": null,
      "metadata": {
        "id": "TUQlUAUgfvp5"
      },
      "outputs": [],
      "source": [
        "#lambda arguments: expression\n",
        "\n",
        "# Normal function\n",
        "def square(x):\n",
        "    return x * x\n",
        "print(square(5))\n",
        "\n"
      ]
    },
    {
      "cell_type": "code",
      "source": [
        "a=lambda x,y:x*y\n",
        "print(a(2,3))"
      ],
      "metadata": {
        "colab": {
          "base_uri": "https://localhost:8080/"
        },
        "id": "i0K_uh-FCqCL",
        "outputId": "427c96f7-9602-44eb-e648-2d3a80236beb"
      },
      "execution_count": null,
      "outputs": [
        {
          "output_type": "stream",
          "name": "stdout",
          "text": [
            "6\n"
          ]
        }
      ]
    },
    {
      "cell_type": "code",
      "source": [
        "# Equivalent lambda function\n",
        "square_lambda = lambda x: x * x\n",
        "print(square_lambda(5))"
      ],
      "metadata": {
        "id": "0FFKE_GYKmsU"
      },
      "execution_count": null,
      "outputs": []
    },
    {
      "cell_type": "code",
      "source": [
        "x = lambda a, b,c : a * b*c\n",
        "print(x(5, 6,2))"
      ],
      "metadata": {
        "colab": {
          "base_uri": "https://localhost:8080/"
        },
        "id": "I2UAUw5oVXxT",
        "outputId": "78eb0689-c0c9-4f9a-f70d-ade31851f7d8"
      },
      "execution_count": null,
      "outputs": [
        {
          "output_type": "stream",
          "name": "stdout",
          "text": [
            "60\n"
          ]
        }
      ]
    },
    {
      "cell_type": "markdown",
      "source": [
        "**The map() function applies a given function to every item of an iterable (like a list or tuple) and returns an iterator with the results.**\n",
        "\n",
        "**map(function, iterable)**\n",
        "\n",
        "function: A function that performs an operation.\n",
        "\n",
        "iterable: The sequence to be transformed."
      ],
      "metadata": {
        "id": "JSkGhJGVUXGp"
      }
    },
    {
      "cell_type": "markdown",
      "source": [
        "--iter()\n",
        "--next()"
      ],
      "metadata": {
        "id": "t0iZ-K3D6Rtw"
      }
    },
    {
      "cell_type": "code",
      "source": [
        "x= \"apple\"\n",
        "for i in range(len(x)):\n",
        "  print(x[i])"
      ],
      "metadata": {
        "colab": {
          "base_uri": "https://localhost:8080/"
        },
        "id": "-mt93q7W5Azi",
        "outputId": "89aabcd1-ab38-4fb9-e117-1e1c9878941b"
      },
      "execution_count": null,
      "outputs": [
        {
          "output_type": "stream",
          "name": "stdout",
          "text": [
            "a\n",
            "p\n",
            "p\n",
            "l\n",
            "e\n"
          ]
        }
      ]
    },
    {
      "cell_type": "code",
      "source": [
        "numbers = [1, 2, 3, 4, 5]\n",
        "nums=[]\n",
        "for x in numbers:\n",
        "  nums.append(x*x)\n",
        "print(nums)\n"
      ],
      "metadata": {
        "colab": {
          "base_uri": "https://localhost:8080/"
        },
        "id": "GQe44dLeUyqC",
        "outputId": "a31d72b8-65b4-488f-9caf-e2dbdd5e29d0"
      },
      "execution_count": null,
      "outputs": [
        {
          "output_type": "stream",
          "name": "stdout",
          "text": [
            "[1, 4, 9, 16, 25]\n"
          ]
        }
      ]
    },
    {
      "cell_type": "code",
      "source": [
        "numbers = [1, 2, 3, 4, 5]\n",
        "a=list(map(lambda x:x*x,numbers))\n",
        "print(a)"
      ],
      "metadata": {
        "colab": {
          "base_uri": "https://localhost:8080/"
        },
        "id": "otWwUCpPEZMr",
        "outputId": "5c6c2b49-7854-4e3c-c8b2-8b298474c2ec"
      },
      "execution_count": null,
      "outputs": [
        {
          "output_type": "stream",
          "name": "stdout",
          "text": [
            "[1, 4, 9, 16, 25]\n"
          ]
        }
      ]
    },
    {
      "cell_type": "code",
      "source": [
        "numbers = [1, 2, 3, 4, 5]\n",
        "\n",
        "squared_numbers = list(map(lambda x: x * x, numbers))\n",
        "print(squared_numbers)"
      ],
      "metadata": {
        "colab": {
          "base_uri": "https://localhost:8080/"
        },
        "id": "CEJf46f9UwCm",
        "outputId": "5681fd2d-2d82-496b-83a4-ade626416325"
      },
      "execution_count": null,
      "outputs": [
        {
          "output_type": "stream",
          "name": "stdout",
          "text": [
            "[1, 4, 9, 16, 25]\n"
          ]
        }
      ]
    },
    {
      "cell_type": "markdown",
      "source": [
        "**The filter() function filters a sequence (like a list or tuple) based on a condition provided by a function. It returns an iterator containing elements for which the condition is True.**"
      ],
      "metadata": {
        "id": "n0XA8MdOKxWN"
      }
    },
    {
      "cell_type": "markdown",
      "source": [
        "**filter(function, iterable)**\n",
        "\n",
        "function: A function that tests each element.\n",
        "\n",
        "iterable: The sequence to be filtered."
      ],
      "metadata": {
        "id": "m5X6HwoqK2V1"
      }
    },
    {
      "cell_type": "code",
      "source": [
        "numbers = [1, 2, 3, 4, 5, 6]\n",
        "\n",
        "even_numbers = list(filter(lambda x: x % 2 == 0, numbers))\n",
        "print(even_numbers)"
      ],
      "metadata": {
        "colab": {
          "base_uri": "https://localhost:8080/"
        },
        "id": "Eg07BVHtKzTz",
        "outputId": "18b4f957-8b3e-4f2b-aefb-b535e541c750"
      },
      "execution_count": null,
      "outputs": [
        {
          "output_type": "stream",
          "name": "stdout",
          "text": [
            "[2, 4, 6]\n"
          ]
        }
      ]
    },
    {
      "cell_type": "code",
      "source": [
        "numbers = [1, 2, 3, 4, 5, 6]\n",
        "\n",
        "nums=[]\n",
        "for x in numbers:\n",
        "  if x%2==0:\n",
        "    nums.append(x)\n",
        "print(nums)"
      ],
      "metadata": {
        "id": "8ujbSb7xLQP_"
      },
      "execution_count": null,
      "outputs": []
    },
    {
      "cell_type": "code",
      "source": [
        "numbers = [1, 2, 3, 4, 5, 6]\n",
        "\n",
        "# Filter even numbers and then square them\n",
        "even_squared = list(map(lambda x: x * x, filter(lambda x: x % 2 == 0, numbers)))\n",
        "print(even_squared)"
      ],
      "metadata": {
        "id": "2HQoJh6QFS6D"
      },
      "execution_count": null,
      "outputs": []
    },
    {
      "cell_type": "code",
      "source": [
        "def fun(variable):\n",
        "  letters = ['a', 'e', 'i', 'o', 'u']\n",
        "  if (variable in letters):\n",
        "    return True\n",
        "  else:\n",
        "    return False\n",
        "\n",
        "sequence = ['g', 'e', 'e', 'j', 'k', 's', 'p', 'r']\n",
        "\n",
        "filtered = filter(fun, sequence)\n",
        "print('The filtered letters are:')\n",
        "for s in filtered:\n",
        "  print(s)"
      ],
      "metadata": {
        "colab": {
          "base_uri": "https://localhost:8080/"
        },
        "id": "hELOFTCAVg3Z",
        "outputId": "98de6f19-edca-475c-cba6-a48ecb91bf99"
      },
      "execution_count": null,
      "outputs": [
        {
          "output_type": "stream",
          "name": "stdout",
          "text": [
            "The filtered letters are:\n",
            "e\n",
            "e\n"
          ]
        }
      ]
    },
    {
      "cell_type": "code",
      "source": [
        "sequence = ['g', 'e', 'e', 'j', 'k', 's', 'p', 'r']\n",
        "a = list(filter(lambda x: x in ['a', 'e', 'i', 'o', 'u'], sequence))\n",
        "print(a)\n",
        "for s in a:\n",
        "  print(s)"
      ],
      "metadata": {
        "colab": {
          "base_uri": "https://localhost:8080/"
        },
        "id": "vE-AjSFqGhlv",
        "outputId": "be830efa-6774-4e32-e64a-3109107f921c"
      },
      "execution_count": null,
      "outputs": [
        {
          "output_type": "stream",
          "name": "stdout",
          "text": [
            "['e', 'e']\n",
            "e\n",
            "e\n"
          ]
        }
      ]
    }
  ],
  "metadata": {
    "colab": {
      "provenance": [],
      "authorship_tag": "ABX9TyN6HRg86Vj/oNUq8GJ524l8",
      "include_colab_link": true
    },
    "kernelspec": {
      "display_name": "Python 3",
      "name": "python3"
    },
    "language_info": {
      "name": "python"
    }
  },
  "nbformat": 4,
  "nbformat_minor": 0
}